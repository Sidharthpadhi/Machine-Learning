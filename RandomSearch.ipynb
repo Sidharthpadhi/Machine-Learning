{
 "cells": [
  {
   "cell_type": "markdown",
   "id": "feb793f5",
   "metadata": {},
   "source": [
    "## Random Search\n",
    "#### Random Search with Pipeline Demo"
   ]
  },
  {
   "cell_type": "code",
   "execution_count": 7,
   "id": "f018d299",
   "metadata": {},
   "outputs": [
    {
     "name": "stdout",
     "output_type": "stream",
     "text": [
      "(2000, 21)\n",
      "Fitting 5 folds for each of 10 candidates, totalling 50 fits\n",
      "[CV 1/5; 1/10] START pca__n_components=8, rf__criterion=gini, rf__max_depth=17, rf__n_estimators=500\n",
      "[CV 1/5; 1/10] END pca__n_components=8, rf__criterion=gini, rf__max_depth=17, rf__n_estimators=500;, score=0.388 total time=   2.0s\n",
      "[CV 2/5; 1/10] START pca__n_components=8, rf__criterion=gini, rf__max_depth=17, rf__n_estimators=500\n",
      "[CV 2/5; 1/10] END pca__n_components=8, rf__criterion=gini, rf__max_depth=17, rf__n_estimators=500;, score=0.435 total time=   1.9s\n",
      "[CV 3/5; 1/10] START pca__n_components=8, rf__criterion=gini, rf__max_depth=17, rf__n_estimators=500\n",
      "[CV 3/5; 1/10] END pca__n_components=8, rf__criterion=gini, rf__max_depth=17, rf__n_estimators=500;, score=0.370 total time=   1.9s\n",
      "[CV 4/5; 1/10] START pca__n_components=8, rf__criterion=gini, rf__max_depth=17, rf__n_estimators=500\n",
      "[CV 4/5; 1/10] END pca__n_components=8, rf__criterion=gini, rf__max_depth=17, rf__n_estimators=500;, score=0.390 total time=   1.9s\n",
      "[CV 5/5; 1/10] START pca__n_components=8, rf__criterion=gini, rf__max_depth=17, rf__n_estimators=500\n",
      "[CV 5/5; 1/10] END pca__n_components=8, rf__criterion=gini, rf__max_depth=17, rf__n_estimators=500;, score=0.407 total time=   1.7s\n",
      "[CV 1/5; 2/10] START pca__n_components=5, rf__criterion=entropy, rf__max_depth=8, rf__n_estimators=300\n",
      "[CV 1/5; 2/10] END pca__n_components=5, rf__criterion=entropy, rf__max_depth=8, rf__n_estimators=300;, score=0.323 total time=   1.2s\n",
      "[CV 2/5; 2/10] START pca__n_components=5, rf__criterion=entropy, rf__max_depth=8, rf__n_estimators=300\n",
      "[CV 2/5; 2/10] END pca__n_components=5, rf__criterion=entropy, rf__max_depth=8, rf__n_estimators=300;, score=0.350 total time=   1.2s\n",
      "[CV 3/5; 2/10] START pca__n_components=5, rf__criterion=entropy, rf__max_depth=8, rf__n_estimators=300\n",
      "[CV 3/5; 2/10] END pca__n_components=5, rf__criterion=entropy, rf__max_depth=8, rf__n_estimators=300;, score=0.295 total time=   1.0s\n",
      "[CV 4/5; 2/10] START pca__n_components=5, rf__criterion=entropy, rf__max_depth=8, rf__n_estimators=300\n",
      "[CV 4/5; 2/10] END pca__n_components=5, rf__criterion=entropy, rf__max_depth=8, rf__n_estimators=300;, score=0.328 total time=   1.0s\n",
      "[CV 5/5; 2/10] START pca__n_components=5, rf__criterion=entropy, rf__max_depth=8, rf__n_estimators=300\n",
      "[CV 5/5; 2/10] END pca__n_components=5, rf__criterion=entropy, rf__max_depth=8, rf__n_estimators=300;, score=0.253 total time=   1.0s\n",
      "[CV 1/5; 3/10] START pca__n_components=6, rf__criterion=entropy, rf__max_depth=13, rf__n_estimators=1100\n",
      "[CV 1/5; 3/10] END pca__n_components=6, rf__criterion=entropy, rf__max_depth=13, rf__n_estimators=1100;, score=0.405 total time=   5.0s\n",
      "[CV 2/5; 3/10] START pca__n_components=6, rf__criterion=entropy, rf__max_depth=13, rf__n_estimators=1100\n",
      "[CV 2/5; 3/10] END pca__n_components=6, rf__criterion=entropy, rf__max_depth=13, rf__n_estimators=1100;, score=0.407 total time=   4.5s\n",
      "[CV 3/5; 3/10] START pca__n_components=6, rf__criterion=entropy, rf__max_depth=13, rf__n_estimators=1100\n",
      "[CV 3/5; 3/10] END pca__n_components=6, rf__criterion=entropy, rf__max_depth=13, rf__n_estimators=1100;, score=0.375 total time=   4.4s\n",
      "[CV 4/5; 3/10] START pca__n_components=6, rf__criterion=entropy, rf__max_depth=13, rf__n_estimators=1100\n",
      "[CV 4/5; 3/10] END pca__n_components=6, rf__criterion=entropy, rf__max_depth=13, rf__n_estimators=1100;, score=0.427 total time=   5.0s\n",
      "[CV 5/5; 3/10] START pca__n_components=6, rf__criterion=entropy, rf__max_depth=13, rf__n_estimators=1100\n",
      "[CV 5/5; 3/10] END pca__n_components=6, rf__criterion=entropy, rf__max_depth=13, rf__n_estimators=1100;, score=0.357 total time=   4.0s\n",
      "[CV 1/5; 4/10] START pca__n_components=7, rf__criterion=gini, rf__max_depth=15, rf__n_estimators=1300\n",
      "[CV 1/5; 4/10] END pca__n_components=7, rf__criterion=gini, rf__max_depth=15, rf__n_estimators=1300;, score=0.383 total time=   4.1s\n",
      "[CV 2/5; 4/10] START pca__n_components=7, rf__criterion=gini, rf__max_depth=15, rf__n_estimators=1300\n",
      "[CV 2/5; 4/10] END pca__n_components=7, rf__criterion=gini, rf__max_depth=15, rf__n_estimators=1300;, score=0.405 total time=   3.4s\n",
      "[CV 3/5; 4/10] START pca__n_components=7, rf__criterion=gini, rf__max_depth=15, rf__n_estimators=1300\n",
      "[CV 3/5; 4/10] END pca__n_components=7, rf__criterion=gini, rf__max_depth=15, rf__n_estimators=1300;, score=0.360 total time=   3.4s\n",
      "[CV 4/5; 4/10] START pca__n_components=7, rf__criterion=gini, rf__max_depth=15, rf__n_estimators=1300\n",
      "[CV 4/5; 4/10] END pca__n_components=7, rf__criterion=gini, rf__max_depth=15, rf__n_estimators=1300;, score=0.425 total time=   3.5s\n",
      "[CV 5/5; 4/10] START pca__n_components=7, rf__criterion=gini, rf__max_depth=15, rf__n_estimators=1300\n",
      "[CV 5/5; 4/10] END pca__n_components=7, rf__criterion=gini, rf__max_depth=15, rf__n_estimators=1300;, score=0.367 total time=   4.3s\n",
      "[CV 1/5; 5/10] START pca__n_components=7, rf__criterion=entropy, rf__max_depth=11, rf__n_estimators=400\n",
      "[CV 1/5; 5/10] END pca__n_components=7, rf__criterion=entropy, rf__max_depth=11, rf__n_estimators=400;, score=0.388 total time=   1.4s\n",
      "[CV 2/5; 5/10] START pca__n_components=7, rf__criterion=entropy, rf__max_depth=11, rf__n_estimators=400\n",
      "[CV 2/5; 5/10] END pca__n_components=7, rf__criterion=entropy, rf__max_depth=11, rf__n_estimators=400;, score=0.422 total time=   1.4s\n",
      "[CV 3/5; 5/10] START pca__n_components=7, rf__criterion=entropy, rf__max_depth=11, rf__n_estimators=400\n",
      "[CV 3/5; 5/10] END pca__n_components=7, rf__criterion=entropy, rf__max_depth=11, rf__n_estimators=400;, score=0.362 total time=   1.4s\n",
      "[CV 4/5; 5/10] START pca__n_components=7, rf__criterion=entropy, rf__max_depth=11, rf__n_estimators=400\n",
      "[CV 4/5; 5/10] END pca__n_components=7, rf__criterion=entropy, rf__max_depth=11, rf__n_estimators=400;, score=0.417 total time=   1.3s\n",
      "[CV 5/5; 5/10] START pca__n_components=7, rf__criterion=entropy, rf__max_depth=11, rf__n_estimators=400\n",
      "[CV 5/5; 5/10] END pca__n_components=7, rf__criterion=entropy, rf__max_depth=11, rf__n_estimators=400;, score=0.417 total time=   1.4s\n",
      "[CV 1/5; 6/10] START pca__n_components=7, rf__criterion=entropy, rf__max_depth=4, rf__n_estimators=1100\n",
      "[CV 1/5; 6/10] END pca__n_components=7, rf__criterion=entropy, rf__max_depth=4, rf__n_estimators=1100;, score=0.395 total time=   2.6s\n",
      "[CV 2/5; 6/10] START pca__n_components=7, rf__criterion=entropy, rf__max_depth=4, rf__n_estimators=1100\n",
      "[CV 2/5; 6/10] END pca__n_components=7, rf__criterion=entropy, rf__max_depth=4, rf__n_estimators=1100;, score=0.398 total time=   2.7s\n",
      "[CV 3/5; 6/10] START pca__n_components=7, rf__criterion=entropy, rf__max_depth=4, rf__n_estimators=1100\n",
      "[CV 3/5; 6/10] END pca__n_components=7, rf__criterion=entropy, rf__max_depth=4, rf__n_estimators=1100;, score=0.405 total time=   2.7s\n",
      "[CV 4/5; 6/10] START pca__n_components=7, rf__criterion=entropy, rf__max_depth=4, rf__n_estimators=1100\n",
      "[CV 4/5; 6/10] END pca__n_components=7, rf__criterion=entropy, rf__max_depth=4, rf__n_estimators=1100;, score=0.405 total time=   2.9s\n",
      "[CV 5/5; 6/10] START pca__n_components=7, rf__criterion=entropy, rf__max_depth=4, rf__n_estimators=1100\n",
      "[CV 5/5; 6/10] END pca__n_components=7, rf__criterion=entropy, rf__max_depth=4, rf__n_estimators=1100;, score=0.422 total time=   2.3s\n",
      "[CV 1/5; 7/10] START pca__n_components=9, rf__criterion=entropy, rf__max_depth=4, rf__n_estimators=200\n",
      "[CV 1/5; 7/10] END pca__n_components=9, rf__criterion=entropy, rf__max_depth=4, rf__n_estimators=200;, score=0.417 total time=   0.6s\n",
      "[CV 2/5; 7/10] START pca__n_components=9, rf__criterion=entropy, rf__max_depth=4, rf__n_estimators=200\n",
      "[CV 2/5; 7/10] END pca__n_components=9, rf__criterion=entropy, rf__max_depth=4, rf__n_estimators=200;, score=0.465 total time=   0.6s\n",
      "[CV 3/5; 7/10] START pca__n_components=9, rf__criterion=entropy, rf__max_depth=4, rf__n_estimators=200\n",
      "[CV 3/5; 7/10] END pca__n_components=9, rf__criterion=entropy, rf__max_depth=4, rf__n_estimators=200;, score=0.472 total time=   0.7s\n",
      "[CV 4/5; 7/10] START pca__n_components=9, rf__criterion=entropy, rf__max_depth=4, rf__n_estimators=200\n",
      "[CV 4/5; 7/10] END pca__n_components=9, rf__criterion=entropy, rf__max_depth=4, rf__n_estimators=200;, score=0.490 total time=   0.7s\n",
      "[CV 5/5; 7/10] START pca__n_components=9, rf__criterion=entropy, rf__max_depth=4, rf__n_estimators=200\n",
      "[CV 5/5; 7/10] END pca__n_components=9, rf__criterion=entropy, rf__max_depth=4, rf__n_estimators=200;, score=0.435 total time=   0.6s\n",
      "[CV 1/5; 8/10] START pca__n_components=7, rf__criterion=gini, rf__max_depth=7, rf__n_estimators=1200\n",
      "[CV 1/5; 8/10] END pca__n_components=7, rf__criterion=gini, rf__max_depth=7, rf__n_estimators=1200;, score=0.403 total time=   3.2s\n",
      "[CV 2/5; 8/10] START pca__n_components=7, rf__criterion=gini, rf__max_depth=7, rf__n_estimators=1200\n",
      "[CV 2/5; 8/10] END pca__n_components=7, rf__criterion=gini, rf__max_depth=7, rf__n_estimators=1200;, score=0.438 total time=   3.0s\n",
      "[CV 3/5; 8/10] START pca__n_components=7, rf__criterion=gini, rf__max_depth=7, rf__n_estimators=1200\n",
      "[CV 3/5; 8/10] END pca__n_components=7, rf__criterion=gini, rf__max_depth=7, rf__n_estimators=1200;, score=0.378 total time=   3.0s\n",
      "[CV 4/5; 8/10] START pca__n_components=7, rf__criterion=gini, rf__max_depth=7, rf__n_estimators=1200\n",
      "[CV 4/5; 8/10] END pca__n_components=7, rf__criterion=gini, rf__max_depth=7, rf__n_estimators=1200;, score=0.420 total time=   2.8s\n",
      "[CV 5/5; 8/10] START pca__n_components=7, rf__criterion=gini, rf__max_depth=7, rf__n_estimators=1200\n",
      "[CV 5/5; 8/10] END pca__n_components=7, rf__criterion=gini, rf__max_depth=7, rf__n_estimators=1200;, score=0.425 total time=   3.2s\n",
      "[CV 1/5; 9/10] START pca__n_components=5, rf__criterion=entropy, rf__max_depth=9, rf__n_estimators=800\n",
      "[CV 1/5; 9/10] END pca__n_components=5, rf__criterion=entropy, rf__max_depth=9, rf__n_estimators=800;, score=0.310 total time=   2.8s\n",
      "[CV 2/5; 9/10] START pca__n_components=5, rf__criterion=entropy, rf__max_depth=9, rf__n_estimators=800\n",
      "[CV 2/5; 9/10] END pca__n_components=5, rf__criterion=entropy, rf__max_depth=9, rf__n_estimators=800;, score=0.367 total time=   2.9s\n",
      "[CV 3/5; 9/10] START pca__n_components=5, rf__criterion=entropy, rf__max_depth=9, rf__n_estimators=800\n",
      "[CV 3/5; 9/10] END pca__n_components=5, rf__criterion=entropy, rf__max_depth=9, rf__n_estimators=800;, score=0.302 total time=   3.8s\n",
      "[CV 4/5; 9/10] START pca__n_components=5, rf__criterion=entropy, rf__max_depth=9, rf__n_estimators=800\n",
      "[CV 4/5; 9/10] END pca__n_components=5, rf__criterion=entropy, rf__max_depth=9, rf__n_estimators=800;, score=0.335 total time=   2.9s\n",
      "[CV 5/5; 9/10] START pca__n_components=5, rf__criterion=entropy, rf__max_depth=9, rf__n_estimators=800\n",
      "[CV 5/5; 9/10] END pca__n_components=5, rf__criterion=entropy, rf__max_depth=9, rf__n_estimators=800;, score=0.273 total time=   2.8s\n",
      "[CV 1/5; 10/10] START pca__n_components=5, rf__criterion=gini, rf__max_depth=14, rf__n_estimators=1300\n",
      "[CV 1/5; 10/10] END pca__n_components=5, rf__criterion=gini, rf__max_depth=14, rf__n_estimators=1300;, score=0.300 total time=   3.4s\n",
      "[CV 2/5; 10/10] START pca__n_components=5, rf__criterion=gini, rf__max_depth=14, rf__n_estimators=1300\n",
      "[CV 2/5; 10/10] END pca__n_components=5, rf__criterion=gini, rf__max_depth=14, rf__n_estimators=1300;, score=0.343 total time=   2.9s\n",
      "[CV 3/5; 10/10] START pca__n_components=5, rf__criterion=gini, rf__max_depth=14, rf__n_estimators=1300\n",
      "[CV 3/5; 10/10] END pca__n_components=5, rf__criterion=gini, rf__max_depth=14, rf__n_estimators=1300;, score=0.305 total time=   3.2s\n",
      "[CV 4/5; 10/10] START pca__n_components=5, rf__criterion=gini, rf__max_depth=14, rf__n_estimators=1300\n",
      "[CV 4/5; 10/10] END pca__n_components=5, rf__criterion=gini, rf__max_depth=14, rf__n_estimators=1300;, score=0.335 total time=   4.0s\n",
      "[CV 5/5; 10/10] START pca__n_components=5, rf__criterion=gini, rf__max_depth=14, rf__n_estimators=1300\n",
      "[CV 5/5; 10/10] END pca__n_components=5, rf__criterion=gini, rf__max_depth=14, rf__n_estimators=1300;, score=0.242 total time=   4.9s\n"
     ]
    }
   ],
   "source": [
    "# In random search it select the combination of parameters randomly.\n",
    "if __name__ == '__main__':\n",
    "    df = pd.read_csv('train.csv')\n",
    "    print(df.shape)\n",
    "    X = df.drop('price_range',axis=1).values\n",
    "    y = df.price_range.values\n",
    "    \n",
    "    scl = preprocessing.StandardScaler()\n",
    "    pca = decomposition.PCA()    \n",
    "    rf = ensemble.RandomForestClassifier(n_jobs=-1)\n",
    "    \n",
    "    classifier = pipeline.Pipeline(\n",
    "        [\n",
    "            (\"scaling\",scl),\n",
    "            (\"pca\",pca),\n",
    "            (\"rf\",rf)\n",
    "        ]\n",
    "    )\n",
    "        # Syntax:- name__param\n",
    "    # Example:- rf__n_estimators\n",
    "    param_grid = {\n",
    "    \"pca__n_components\":np.arange(5,10),\n",
    "    \"rf__n_estimators\":np.arange(100,1500,100),\n",
    "    \"rf__max_depth\":np.arange(1,20),\n",
    "    \"rf__criterion\":[\"gini\",\"entropy\"],\n",
    "    }\n",
    "   \n",
    "    model = model_selection.RandomizedSearchCV(\n",
    "        estimator=classifier,\n",
    "        param_distributions = param_grid,\n",
    "        n_iter=10,\n",
    "        scoring=\"accuracy\",\n",
    "        verbose=10,\n",
    "        n_jobs=1,\n",
    "        cv=5,\n",
    "    )\n",
    "    \n",
    "    model.fit(X,y)\n"
   ]
  },
  {
   "cell_type": "code",
   "execution_count": 8,
   "id": "3d154d2e",
   "metadata": {},
   "outputs": [
    {
     "name": "stdout",
     "output_type": "stream",
     "text": [
      "0.45599999999999996\n"
     ]
    }
   ],
   "source": [
    "# Print the best_score_\n",
    "print(model.best_score_)"
   ]
  },
  {
   "cell_type": "code",
   "execution_count": 9,
   "id": "27cb91ba",
   "metadata": {},
   "outputs": [
    {
     "name": "stdout",
     "output_type": "stream",
     "text": [
      "{'memory': None, 'steps': [('scaling', StandardScaler()), ('pca', PCA(n_components=9)), ('rf', RandomForestClassifier(criterion='entropy', max_depth=4, n_estimators=200,\n",
      "                       n_jobs=-1))], 'verbose': False, 'scaling': StandardScaler(), 'pca': PCA(n_components=9), 'rf': RandomForestClassifier(criterion='entropy', max_depth=4, n_estimators=200,\n",
      "                       n_jobs=-1), 'scaling__copy': True, 'scaling__with_mean': True, 'scaling__with_std': True, 'pca__copy': True, 'pca__iterated_power': 'auto', 'pca__n_components': 9, 'pca__random_state': None, 'pca__svd_solver': 'auto', 'pca__tol': 0.0, 'pca__whiten': False, 'rf__bootstrap': True, 'rf__ccp_alpha': 0.0, 'rf__class_weight': None, 'rf__criterion': 'entropy', 'rf__max_depth': 4, 'rf__max_features': 'auto', 'rf__max_leaf_nodes': None, 'rf__max_samples': None, 'rf__min_impurity_decrease': 0.0, 'rf__min_samples_leaf': 1, 'rf__min_samples_split': 2, 'rf__min_weight_fraction_leaf': 0.0, 'rf__n_estimators': 200, 'rf__n_jobs': -1, 'rf__oob_score': False, 'rf__random_state': None, 'rf__verbose': 0, 'rf__warm_start': False}\n"
     ]
    }
   ],
   "source": [
    "# Print the best parameters\n",
    "print(model.best_estimator_.get_params())"
   ]
  },
  {
   "cell_type": "code",
   "execution_count": null,
   "id": "21eb096c",
   "metadata": {},
   "outputs": [],
   "source": []
  }
 ],
 "metadata": {
  "kernelspec": {
   "display_name": "Python 3 (ipykernel)",
   "language": "python",
   "name": "python3"
  },
  "language_info": {
   "codemirror_mode": {
    "name": "ipython",
    "version": 3
   },
   "file_extension": ".py",
   "mimetype": "text/x-python",
   "name": "python",
   "nbconvert_exporter": "python",
   "pygments_lexer": "ipython3",
   "version": "3.9.13"
  }
 },
 "nbformat": 4,
 "nbformat_minor": 5
}
